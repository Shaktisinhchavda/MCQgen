{
 "cells": [
  {
   "cell_type": "code",
   "execution_count": 1,
   "id": "b66f1460",
   "metadata": {},
   "outputs": [],
   "source": [
    "import os\n",
    "import json\n",
    "import pandas as pd\n",
    "import traceback"
   ]
  },
  {
   "cell_type": "code",
   "execution_count": 2,
   "id": "b0717255",
   "metadata": {},
   "outputs": [],
   "source": [
    "from langchain_google_genai import ChatGoogleGenerativeAI"
   ]
  },
  {
   "cell_type": "code",
   "execution_count": 4,
   "id": "721c68dd",
   "metadata": {},
   "outputs": [],
   "source": [
    "KEY = os.getenv(\"GEMINI_KEY\")\n",
    "if not KEY:\n",
    "    raise ValueError(\"GEMINI_KEY not set in environment variables.\")\n",
    "\n",
    "llm = ChatGoogleGenerativeAI(\n",
    "    model=\"gemini-2.0-flash\",  \n",
    "    google_api_key=KEY,\n",
    "    convert_system_message_to_human=True  \n",
    ")"
   ]
  },
  {
   "cell_type": "code",
   "execution_count": 6,
   "id": "6d060a60",
   "metadata": {},
   "outputs": [],
   "source": [
    "from langchain.prompts import PromptTemplate\n",
    "from langchain.chains import LLMChain\n",
    "from langchain.chains import  SequentialChain\n",
    "import PyPDF2"
   ]
  },
  {
   "cell_type": "code",
   "execution_count": 7,
   "id": "6d2b12d7",
   "metadata": {},
   "outputs": [],
   "source": [
    "RESPONSE_JSON = {\n",
    "    \"1\": {\n",
    "        \"mcq\": \"multiple choice question\",\n",
    "        \"options\": {\n",
    "            \"a\": \"choice here\",\n",
    "            \"b\": \"choice here\",\n",
    "            \"c\": \"choice here\",\n",
    "            \"d\": \"choice here\",\n",
    "        },\n",
    "        \"correct\": \"correct answer\",\n",
    "    },\n",
    "    \"2\": {\n",
    "        \"mcq\": \"multiple choice question\",\n",
    "        \"options\": {\n",
    "            \"a\": \"choice here\",\n",
    "            \"b\": \"choice here\",\n",
    "            \"c\": \"choice here\",\n",
    "            \"d\": \"choice here\",\n",
    "        },\n",
    "        \"correct\": \"correct answer\",\n",
    "    },\n",
    "    \"3\": {\n",
    "        \"mcq\": \"multiple choice question\",\n",
    "        \"options\": {\n",
    "            \"a\": \"choice here\",\n",
    "            \"b\": \"choice here\",\n",
    "            \"c\": \"choice here\",\n",
    "            \"d\": \"choice here\",\n",
    "        },\n",
    "        \"correct\": \"correct answer\",\n",
    "    },\n",
    "}"
   ]
  },
  {
   "cell_type": "code",
   "execution_count": 8,
   "id": "c36eaf36",
   "metadata": {},
   "outputs": [],
   "source": [
    "TEMPLATE=\"\"\"\n",
    "Text:{text}\n",
    "You are an expert MCQ maker. Given the above text, it is your job to \\\n",
    "create a quiz  of {number} multiple choice questions for {subject} students in {tone} tone. \n",
    "Make sure the questions are not repeated and check all the questions to be conforming the text as well.\n",
    "Make sure to format your response like  RESPONSE_JSON below  and use it as a guide. \\\n",
    "Ensure to make {number} MCQs\n",
    "### RESPONSE_JSON\n",
    "{response_json}\n",
    "\n",
    "\"\"\""
   ]
  },
  {
   "cell_type": "code",
   "execution_count": 10,
   "id": "98b89a43",
   "metadata": {},
   "outputs": [],
   "source": [
    "quiz_gen_prompt = PromptTemplate(\n",
    "    input_variables=[\"text\",\"number\",\"subject\",\"tone\",\"response_json\"],\n",
    "    template=TEMPLATE\n",
    ")"
   ]
  },
  {
   "cell_type": "code",
   "execution_count": 11,
   "id": "73a879af",
   "metadata": {},
   "outputs": [
    {
     "name": "stderr",
     "output_type": "stream",
     "text": [
      "C:\\Users\\shakt\\AppData\\Local\\Temp\\ipykernel_28852\\4197540469.py:1: LangChainDeprecationWarning: The class `LLMChain` was deprecated in LangChain 0.1.17 and will be removed in 1.0. Use :meth:`~RunnableSequence, e.g., `prompt | llm`` instead.\n",
      "  quiz_chain = LLMChain(llm=llm,prompt=quiz_gen_prompt,output_key=\"quiz\",verbose=True)\n"
     ]
    }
   ],
   "source": [
    "quiz_chain = LLMChain(llm=llm,prompt=quiz_gen_prompt,output_key=\"quiz\",verbose=True)"
   ]
  },
  {
   "cell_type": "code",
   "execution_count": 12,
   "id": "df3232dc",
   "metadata": {},
   "outputs": [],
   "source": [
    "TEMPLATE2=\"\"\"\n",
    "You are an expert english grammarian and writer. Given a Multiple Choice Quiz for {subject} students.\\\n",
    "You need to evaluate the complexity of the question and give a complete analysis of the quiz. Only use at max 50 words for complexity analysis. \n",
    "if the quiz is not at per with the cognitive and analytical abilities of the students,\\\n",
    "update the quiz questions which needs to be changed and change the tone such that it perfectly fits the student abilities\n",
    "Quiz_MCQs:\n",
    "{quiz}\n",
    "\n",
    "Check from an expert English Writer of the above quiz:\n",
    "\"\"\""
   ]
  },
  {
   "cell_type": "code",
   "execution_count": null,
   "id": "b74ae1df",
   "metadata": {},
   "outputs": [],
   "source": [
    "quiz_evaluation_prompt=PromptTemplate(input_variables=[\"subject\", \"quiz\"], template=TEMPLATE)"
   ]
  },
  {
   "cell_type": "code",
   "execution_count": 14,
   "id": "25b172dd",
   "metadata": {},
   "outputs": [],
   "source": [
    "review_chain=LLMChain(llm=llm, prompt=quiz_evaluation_prompt, output_key=\"review\", verbose=True)"
   ]
  },
  {
   "cell_type": "code",
   "execution_count": 15,
   "id": "51dc7187",
   "metadata": {},
   "outputs": [],
   "source": [
    "generate_evaluate_chain=SequentialChain(chains=[quiz_chain, review_chain], input_variables=[\"text\", \"number\", \"subject\", \"tone\", \"response_json\"],\n",
    "                                        output_variables=[\"quiz\", \"review\"], verbose=True,)"
   ]
  },
  {
   "cell_type": "code",
   "execution_count": 17,
   "id": "803814fe",
   "metadata": {},
   "outputs": [],
   "source": [
    "with open(\"D:\\MCQgen\\data.txt\",\"r\") as file:\n",
    "    TEXT = file.read()"
   ]
  },
  {
   "cell_type": "code",
   "execution_count": 19,
   "id": "bc033cad",
   "metadata": {},
   "outputs": [
    {
     "data": {
      "text/plain": [
       "'{\"1\": {\"mcq\": \"multiple choice question\", \"options\": {\"a\": \"choice here\", \"b\": \"choice here\", \"c\": \"choice here\", \"d\": \"choice here\"}, \"correct\": \"correct answer\"}, \"2\": {\"mcq\": \"multiple choice question\", \"options\": {\"a\": \"choice here\", \"b\": \"choice here\", \"c\": \"choice here\", \"d\": \"choice here\"}, \"correct\": \"correct answer\"}, \"3\": {\"mcq\": \"multiple choice question\", \"options\": {\"a\": \"choice here\", \"b\": \"choice here\", \"c\": \"choice here\", \"d\": \"choice here\"}, \"correct\": \"correct answer\"}}'"
      ]
     },
     "execution_count": 19,
     "metadata": {},
     "output_type": "execute_result"
    }
   ],
   "source": [
    "json.dumps(RESPONSE_JSON)"
   ]
  },
  {
   "cell_type": "code",
   "execution_count": 20,
   "id": "64506d13",
   "metadata": {},
   "outputs": [],
   "source": [
    "NUMBER=5 \n",
    "SUBJECT=\"biology\"\n",
    "TONE=\"simple\""
   ]
  },
  {
   "cell_type": "code",
   "execution_count": 21,
   "id": "d1953c91",
   "metadata": {},
   "outputs": [
    {
     "name": "stderr",
     "output_type": "stream",
     "text": [
      "C:\\Users\\shakt\\AppData\\Local\\Temp\\ipykernel_28852\\1882050128.py:1: LangChainDeprecationWarning: The method `Chain.__call__` was deprecated in langchain 0.1.0 and will be removed in 1.0. Use :meth:`~invoke` instead.\n",
      "  response=generate_evaluate_chain(\n",
      "d:\\MCQgen\\env\\lib\\site-packages\\langchain_google_genai\\chat_models.py:499: UserWarning: Convert_system_message_to_human will be deprecated!\n",
      "  warnings.warn(\"Convert_system_message_to_human will be deprecated!\")\n"
     ]
    },
    {
     "name": "stdout",
     "output_type": "stream",
     "text": [
      "\n",
      "\n",
      "\u001b[1m> Entering new SequentialChain chain...\u001b[0m\n",
      "\n",
      "\n",
      "\u001b[1m> Entering new LLMChain chain...\u001b[0m\n",
      "Prompt after formatting:\n",
      "\u001b[32;1m\u001b[1;3m\n",
      "Text:Biology is the scientific study of life.[1][2][3] It is a natural science with a broad scope but has several unifying themes that tie it together as a single, coherent field.[1][2][3] For instance, all organisms are made up of cells that process hereditary information encoded in genes, which can be transmitted to future generations. Another major theme is evolution, which explains the unity and diversity of life.[1][2][3] Energy processing is also important to life as it allows organisms to move, grow, and reproduce.[1][2][3] Finally, all organisms are able to regulate their own internal environments.[1][2][3][4][5]\n",
      "\n",
      "Biologists are able to study life at multiple levels of organization,[1] from the molecular biology of a cell to the anatomy and physiology of plants and animals, and evolution of populations.[1][6] Hence, there are multiple subdisciplines within biology, each defined by the nature of their research questions and the tools that they use.[7][8][9] Like other scientists, biologists use the scientific method to make observations, pose questions, generate hypotheses, perform experiments, and form conclusions about the world around them.[1]\n",
      "\n",
      "Life on Earth, which emerged more than 3.7 billion years ago,[10] is immensely diverse. Biologists have sought to study and classify the various forms of life, from prokaryotic organisms such as archaea and bacteria to eukaryotic organisms such as protists, fungi, plants, and animals. These various organisms contribute to the biodiversity of an ecosystem, where they play specialized roles in the cycling of nutrients and energy through their biophysical environment.\n",
      "You are an expert MCQ maker. Given the above text, it is your job to create a quiz  of 5 multiple choice questions for biology students in simple tone. \n",
      "Make sure the questions are not repeated and check all the questions to be conforming the text as well.\n",
      "Make sure to format your response like  RESPONSE_JSON below  and use it as a guide. Ensure to make 5 MCQs\n",
      "### RESPONSE_JSON\n",
      "{\"1\": {\"mcq\": \"multiple choice question\", \"options\": {\"a\": \"choice here\", \"b\": \"choice here\", \"c\": \"choice here\", \"d\": \"choice here\"}, \"correct\": \"correct answer\"}, \"2\": {\"mcq\": \"multiple choice question\", \"options\": {\"a\": \"choice here\", \"b\": \"choice here\", \"c\": \"choice here\", \"d\": \"choice here\"}, \"correct\": \"correct answer\"}, \"3\": {\"mcq\": \"multiple choice question\", \"options\": {\"a\": \"choice here\", \"b\": \"choice here\", \"c\": \"choice here\", \"d\": \"choice here\"}, \"correct\": \"correct answer\"}}\n",
      "\n",
      "\u001b[0m\n",
      "\n",
      "\u001b[1m> Finished chain.\u001b[0m\n",
      "\n",
      "\n",
      "\u001b[1m> Entering new LLMChain chain...\u001b[0m\n",
      "Prompt after formatting:\n",
      "\u001b[32;1m\u001b[1;3m\n",
      "Text:Biology is the scientific study of life.[1][2][3] It is a natural science with a broad scope but has several unifying themes that tie it together as a single, coherent field.[1][2][3] For instance, all organisms are made up of cells that process hereditary information encoded in genes, which can be transmitted to future generations. Another major theme is evolution, which explains the unity and diversity of life.[1][2][3] Energy processing is also important to life as it allows organisms to move, grow, and reproduce.[1][2][3] Finally, all organisms are able to regulate their own internal environments.[1][2][3][4][5]\n",
      "\n",
      "Biologists are able to study life at multiple levels of organization,[1] from the molecular biology of a cell to the anatomy and physiology of plants and animals, and evolution of populations.[1][6] Hence, there are multiple subdisciplines within biology, each defined by the nature of their research questions and the tools that they use.[7][8][9] Like other scientists, biologists use the scientific method to make observations, pose questions, generate hypotheses, perform experiments, and form conclusions about the world around them.[1]\n",
      "\n",
      "Life on Earth, which emerged more than 3.7 billion years ago,[10] is immensely diverse. Biologists have sought to study and classify the various forms of life, from prokaryotic organisms such as archaea and bacteria to eukaryotic organisms such as protists, fungi, plants, and animals. These various organisms contribute to the biodiversity of an ecosystem, where they play specialized roles in the cycling of nutrients and energy through their biophysical environment.\n",
      "You are an expert MCQ maker. Given the above text, it is your job to create a quiz  of 5 multiple choice questions for biology students in simple tone. \n",
      "Make sure the questions are not repeated and check all the questions to be conforming the text as well.\n",
      "Make sure to format your response like  RESPONSE_JSON below  and use it as a guide. Ensure to make 5 MCQs\n",
      "### RESPONSE_JSON\n",
      "{\"1\": {\"mcq\": \"multiple choice question\", \"options\": {\"a\": \"choice here\", \"b\": \"choice here\", \"c\": \"choice here\", \"d\": \"choice here\"}, \"correct\": \"correct answer\"}, \"2\": {\"mcq\": \"multiple choice question\", \"options\": {\"a\": \"choice here\", \"b\": \"choice here\", \"c\": \"choice here\", \"d\": \"choice here\"}, \"correct\": \"correct answer\"}, \"3\": {\"mcq\": \"multiple choice question\", \"options\": {\"a\": \"choice here\", \"b\": \"choice here\", \"c\": \"choice here\", \"d\": \"choice here\"}, \"correct\": \"correct answer\"}}\n",
      "\n",
      "\u001b[0m\n"
     ]
    },
    {
     "name": "stderr",
     "output_type": "stream",
     "text": [
      "d:\\MCQgen\\env\\lib\\site-packages\\langchain_google_genai\\chat_models.py:499: UserWarning: Convert_system_message_to_human will be deprecated!\n",
      "  warnings.warn(\"Convert_system_message_to_human will be deprecated!\")\n"
     ]
    },
    {
     "name": "stdout",
     "output_type": "stream",
     "text": [
      "\n",
      "\u001b[1m> Finished chain.\u001b[0m\n",
      "\n",
      "\u001b[1m> Finished chain.\u001b[0m\n"
     ]
    }
   ],
   "source": [
    "response=generate_evaluate_chain(\n",
    "        {\n",
    "            \"text\": TEXT,\n",
    "            \"number\": NUMBER,\n",
    "            \"subject\":SUBJECT,\n",
    "            \"tone\": TONE,\n",
    "            \"response_json\": json.dumps(RESPONSE_JSON)\n",
    "        }\n",
    "        )"
   ]
  },
  {
   "cell_type": "code",
   "execution_count": 22,
   "id": "138c8a3a",
   "metadata": {},
   "outputs": [
    {
     "data": {
      "text/plain": [
       "{'text': 'Biology is the scientific study of life.[1][2][3] It is a natural science with a broad scope but has several unifying themes that tie it together as a single, coherent field.[1][2][3] For instance, all organisms are made up of cells that process hereditary information encoded in genes, which can be transmitted to future generations. Another major theme is evolution, which explains the unity and diversity of life.[1][2][3] Energy processing is also important to life as it allows organisms to move, grow, and reproduce.[1][2][3] Finally, all organisms are able to regulate their own internal environments.[1][2][3][4][5]\\n\\nBiologists are able to study life at multiple levels of organization,[1] from the molecular biology of a cell to the anatomy and physiology of plants and animals, and evolution of populations.[1][6] Hence, there are multiple subdisciplines within biology, each defined by the nature of their research questions and the tools that they use.[7][8][9] Like other scientists, biologists use the scientific method to make observations, pose questions, generate hypotheses, perform experiments, and form conclusions about the world around them.[1]\\n\\nLife on Earth, which emerged more than 3.7 billion years ago,[10] is immensely diverse. Biologists have sought to study and classify the various forms of life, from prokaryotic organisms such as archaea and bacteria to eukaryotic organisms such as protists, fungi, plants, and animals. These various organisms contribute to the biodiversity of an ecosystem, where they play specialized roles in the cycling of nutrients and energy through their biophysical environment.',\n",
       " 'number': 5,\n",
       " 'subject': 'biology',\n",
       " 'tone': 'simple',\n",
       " 'response_json': '{\"1\": {\"mcq\": \"multiple choice question\", \"options\": {\"a\": \"choice here\", \"b\": \"choice here\", \"c\": \"choice here\", \"d\": \"choice here\"}, \"correct\": \"correct answer\"}, \"2\": {\"mcq\": \"multiple choice question\", \"options\": {\"a\": \"choice here\", \"b\": \"choice here\", \"c\": \"choice here\", \"d\": \"choice here\"}, \"correct\": \"correct answer\"}, \"3\": {\"mcq\": \"multiple choice question\", \"options\": {\"a\": \"choice here\", \"b\": \"choice here\", \"c\": \"choice here\", \"d\": \"choice here\"}, \"correct\": \"correct answer\"}}',\n",
       " 'quiz': '```json\\n{\\n\"1\": {\\n\"mcq\": \"Which of the following is NOT a unifying theme in biology?\",\\n\"options\": {\\n\"a\": \"All organisms are made of cells.\",\\n\"b\": \"Evolution explains the diversity of life.\",\\n\"c\": \"Organisms can regulate their internal environments.\",\\n\"d\": \"Organisms are always getting bigger.\"},\\n\"correct\": \"d\"\\n},\\n\"2\": {\\n\"mcq\": \"Biologists study life at different levels of organization. Which of these is an example of a level they study?\",\\n\"options\": {\\n\"a\": \"The molecular biology of a cell.\",\\n\"b\": \"The history of the universe.\",\\n\"c\": \"The chemical composition of rocks.\",\\n\"d\": \"The stock market.\"},\\n\"correct\": \"a\"\\n},\\n\"3\": {\\n\"mcq\": \"What do biologists use to make observations, generate hypotheses and perform experiments?\",\\n\"options\": {\\n\"a\": \"The scientific method.\",\\n\"b\": \"Pure luck.\",\\n\"c\": \"Their feelings.\",\\n\"d\": \"Ancient texts.\"},\\n\"correct\": \"a\"\\n},\\n\"4\": {\\n\"mcq\": \"Approximately how long ago did life emerge on Earth?\",\\n\"options\": {\\n\"a\": \"3.7 million years ago.\",\\n\"b\": \"3.7 billion years ago.\",\\n\"c\": \"37,000 years ago.\",\\n\"d\": \"370 years ago.\"},\\n\"correct\": \"b\"\\n},\\n\"5\": {\\n\"mcq\": \"Which of the following is an example of a eukaryotic organism?\",\\n\"options\": {\\n\"a\": \"Archaea\",\\n\"b\": \"Bacteria\",\\n\"c\": \"Fungi\",\\n\"d\": \"All of the above\"},\\n\"correct\": \"c\"\\n}\\n}\\n```',\n",
       " 'review': '```json\\n{\\n  \"1\": {\\n    \"mcq\": \"Which of the following is a unifying theme in biology?\",\\n    \"options\": {\\n      \"a\": \"The study of rocks\",\\n      \"b\": \"All organisms are made of cells with hereditary information.\",\\n      \"c\": \"The creation of energy\",\\n      \"d\": \"The study of stars\"\\n    },\\n    \"correct\": \"b\"\\n  },\\n  \"2\": {\\n    \"mcq\": \"What is the primary role of energy processing in living organisms?\",\\n    \"options\": {\\n      \"a\": \"To decompose dead organisms\",\\n      \"b\": \"To allow organisms to move, grow, and reproduce\",\\n      \"c\": \"To maintain a constant body temperature\",\\n      \"d\": \"To create new species\"\\n    },\\n    \"correct\": \"b\"\\n  },\\n  \"3\": {\\n    \"mcq\": \"Biologists study life at different levels of organization. Which of these is NOT mentioned as a level of study in the text?\",\\n    \"options\": {\\n      \"a\": \"Molecular biology of a cell\",\\n      \"b\": \"Anatomy and physiology of plants and animals\",\\n      \"c\": \"Evolution of populations\",\\n      \"d\": \"Astrophysics of organisms\"\\n    },\\n    \"correct\": \"d\"\\n  },\\n  \"4\": {\\n    \"mcq\": \"What do biologists use to make observations and form conclusions?\",\\n    \"options\": {\\n      \"a\": \"The scientific method\",\\n      \"b\": \"Intuition\",\\n      \"c\": \"Personal opinions\",\\n      \"d\": \"Magic\"\\n    },\\n    \"correct\": \"a\"\\n  },\\n  \"5\": {\\n    \"mcq\": \"Which of the following is an example of a eukaryotic organism?\",\\n    \"options\": {\\n      \"a\": \"Archaea\",\\n      \"b\": \"Bacteria\",\\n      \"c\": \"Protists\",\\n      \"d\": \"All of the above\"\\n    },\\n    \"correct\": \"c\"\\n  }\\n}\\n```'}"
      ]
     },
     "execution_count": 22,
     "metadata": {},
     "output_type": "execute_result"
    }
   ],
   "source": [
    "response"
   ]
  },
  {
   "cell_type": "code",
   "execution_count": null,
   "id": "48954778",
   "metadata": {},
   "outputs": [
    {
     "name": "stdout",
     "output_type": "stream",
     "text": [
      "RAW QUIZ OUTPUT:\n",
      "```json\n",
      "{\n",
      "\"1\": {\n",
      "\"mcq\": \"Which of the following is NOT a unifying theme in biology?\",\n",
      "\"options\": {\n",
      "\"a\": \"All organisms are made of cells.\",\n",
      "\"b\": \"Evolution explains the diversity of life.\",\n",
      "\"c\": \"Organisms can regulate their internal environments.\",\n",
      "\"d\": \"Organisms are always getting bigger.\"},\n",
      "\"correct\": \"d\"\n",
      "},\n",
      "\"2\": {\n",
      "\"mcq\": \"Biologists study life at different levels of organization. Which of these is an example of a level they study?\",\n",
      "\"options\": {\n",
      "\"a\": \"The molecular biology of a cell.\",\n",
      "\"b\": \"The history of the universe.\",\n",
      "\"c\": \"The chemical composition of rocks.\",\n",
      "\"d\": \"The stock market.\"},\n",
      "\"correct\": \"a\"\n",
      "},\n",
      "\"3\": {\n",
      "\"mcq\": \"What do biologists use to make observations, generate hypotheses and perform experiments?\",\n",
      "\"options\": {\n",
      "\"a\": \"The scientific method.\",\n",
      "\"b\": \"Pure luck.\",\n",
      "\"c\": \"Their feelings.\",\n",
      "\"d\": \"Ancient texts.\"},\n",
      "\"correct\": \"a\"\n",
      "},\n",
      "\"4\": {\n",
      "\"mcq\": \"Approximately how long ago did life emerge on Earth?\",\n",
      "\"options\": {\n",
      "\"a\": \"3.7 million years ago.\",\n",
      "\"b\": \"3.7 billion years ago.\",\n",
      "\"c\": \"37,000 years ago.\",\n",
      "\"d\": \"370 years ago.\"},\n",
      "\"correct\": \"b\"\n",
      "},\n",
      "\"5\": {\n",
      "\"mcq\": \"Which of the following is an example of a eukaryotic organism?\",\n",
      "\"options\": {\n",
      "\"a\": \"Archaea\",\n",
      "\"b\": \"Bacteria\",\n",
      "\"c\": \"Fungi\",\n",
      "\"d\": \"All of the above\"},\n",
      "\"correct\": \"c\"\n",
      "}\n",
      "}\n",
      "```\n"
     ]
    }
   ],
   "source": [
    "quiz = response.get(\"quiz\")\n",
    "\n",
    "print(\"RAW QUIZ OUTPUT:\")\n",
    "print(quiz if quiz else \"Quiz not found in response.\")\n"
   ]
  },
  {
   "cell_type": "code",
   "execution_count": 35,
   "id": "1ffa4309",
   "metadata": {},
   "outputs": [],
   "source": [
    "import re\n",
    "import json\n",
    "\n",
    "def clean_json(text):\n",
    "    if not text:\n",
    "        return None\n",
    "    text = text.strip()\n",
    "    text = re.sub(r\"^```json|```$\", \"\", text)  # remove code fences\n",
    "    text = re.sub(r\"^.*?{\", \"{\", text, flags=re.DOTALL)  # remove leading text before first `{`\n",
    "    return text\n",
    "\n",
    "quiz_cleaned = clean_json(quiz)\n",
    "\n",
    "try:\n",
    "    quiz_dict = json.loads(quiz_cleaned)\n",
    "except json.JSONDecodeError as e:\n",
    "    quiz_dict = None\n"
   ]
  },
  {
   "cell_type": "code",
   "execution_count": 36,
   "id": "ee61f029",
   "metadata": {},
   "outputs": [
    {
     "name": "stdout",
     "output_type": "stream",
     "text": [
      "{\n",
      "  \"1\": {\n",
      "    \"mcq\": \"Which of the following is NOT a unifying theme in biology?\",\n",
      "    \"options\": {\n",
      "      \"a\": \"All organisms are made of cells.\",\n",
      "      \"b\": \"Evolution explains the diversity of life.\",\n",
      "      \"c\": \"Organisms can regulate their internal environments.\",\n",
      "      \"d\": \"Organisms are always getting bigger.\"\n",
      "    },\n",
      "    \"correct\": \"d\"\n",
      "  },\n",
      "  \"2\": {\n",
      "    \"mcq\": \"Biologists study life at different levels of organization. Which of these is an example of a level they study?\",\n",
      "    \"options\": {\n",
      "      \"a\": \"The molecular biology of a cell.\",\n",
      "      \"b\": \"The history of the universe.\",\n",
      "      \"c\": \"The chemical composition of rocks.\",\n",
      "      \"d\": \"The stock market.\"\n",
      "    },\n",
      "    \"correct\": \"a\"\n",
      "  },\n",
      "  \"3\": {\n",
      "    \"mcq\": \"What do biologists use to make observations, generate hypotheses and perform experiments?\",\n",
      "    \"options\": {\n",
      "      \"a\": \"The scientific method.\",\n",
      "      \"b\": \"Pure luck.\",\n",
      "      \"c\": \"Their feelings.\",\n",
      "      \"d\": \"Ancient texts.\"\n",
      "    },\n",
      "    \"correct\": \"a\"\n",
      "  },\n",
      "  \"4\": {\n",
      "    \"mcq\": \"Approximately how long ago did life emerge on Earth?\",\n",
      "    \"options\": {\n",
      "      \"a\": \"3.7 million years ago.\",\n",
      "      \"b\": \"3.7 billion years ago.\",\n",
      "      \"c\": \"37,000 years ago.\",\n",
      "      \"d\": \"370 years ago.\"\n",
      "    },\n",
      "    \"correct\": \"b\"\n",
      "  },\n",
      "  \"5\": {\n",
      "    \"mcq\": \"Which of the following is an example of a eukaryotic organism?\",\n",
      "    \"options\": {\n",
      "      \"a\": \"Archaea\",\n",
      "      \"b\": \"Bacteria\",\n",
      "      \"c\": \"Fungi\",\n",
      "      \"d\": \"All of the above\"\n",
      "    },\n",
      "    \"correct\": \"c\"\n",
      "  }\n",
      "}\n"
     ]
    }
   ],
   "source": [
    "print(json.dumps(quiz_dict, indent=2))\n"
   ]
  },
  {
   "cell_type": "code",
   "execution_count": 37,
   "id": "bc5b714a",
   "metadata": {},
   "outputs": [],
   "source": [
    "quiz_table_data = []\n",
    "for key, value in quiz_dict.items():\n",
    "    mcq = value[\"mcq\"]\n",
    "    options = \" | \".join(\n",
    "        [\n",
    "            f\"{option}: {option_value}\"\n",
    "            for option, option_value in value[\"options\"].items()\n",
    "            ]\n",
    "        )\n",
    "    correct = value[\"correct\"]\n",
    "    quiz_table_data.append({\"MCQ\": mcq, \"Choices\": options, \"Correct\": correct})"
   ]
  },
  {
   "cell_type": "code",
   "execution_count": 38,
   "id": "5695472d",
   "metadata": {},
   "outputs": [
    {
     "data": {
      "text/plain": [
       "[{'MCQ': 'Which of the following is NOT a unifying theme in biology?',\n",
       "  'Choices': 'a: All organisms are made of cells. | b: Evolution explains the diversity of life. | c: Organisms can regulate their internal environments. | d: Organisms are always getting bigger.',\n",
       "  'Correct': 'd'},\n",
       " {'MCQ': 'Biologists study life at different levels of organization. Which of these is an example of a level they study?',\n",
       "  'Choices': 'a: The molecular biology of a cell. | b: The history of the universe. | c: The chemical composition of rocks. | d: The stock market.',\n",
       "  'Correct': 'a'},\n",
       " {'MCQ': 'What do biologists use to make observations, generate hypotheses and perform experiments?',\n",
       "  'Choices': 'a: The scientific method. | b: Pure luck. | c: Their feelings. | d: Ancient texts.',\n",
       "  'Correct': 'a'},\n",
       " {'MCQ': 'Approximately how long ago did life emerge on Earth?',\n",
       "  'Choices': 'a: 3.7 million years ago. | b: 3.7 billion years ago. | c: 37,000 years ago. | d: 370 years ago.',\n",
       "  'Correct': 'b'},\n",
       " {'MCQ': 'Which of the following is an example of a eukaryotic organism?',\n",
       "  'Choices': 'a: Archaea | b: Bacteria | c: Fungi | d: All of the above',\n",
       "  'Correct': 'c'}]"
      ]
     },
     "execution_count": 38,
     "metadata": {},
     "output_type": "execute_result"
    }
   ],
   "source": [
    "quiz_table_data"
   ]
  },
  {
   "cell_type": "code",
   "execution_count": 40,
   "id": "bca72070",
   "metadata": {},
   "outputs": [],
   "source": [
    "quiz = pd.DataFrame(quiz_table_data)"
   ]
  },
  {
   "cell_type": "code",
   "execution_count": 41,
   "id": "baa2e3e6",
   "metadata": {},
   "outputs": [],
   "source": [
    "quiz.to_csv(\"quiz.csv\",index=False)"
   ]
  },
  {
   "cell_type": "code",
   "execution_count": null,
   "id": "03636552",
   "metadata": {},
   "outputs": [],
   "source": []
  }
 ],
 "metadata": {
  "kernelspec": {
   "display_name": "Python 3",
   "language": "python",
   "name": "python3"
  },
  "language_info": {
   "codemirror_mode": {
    "name": "ipython",
    "version": 3
   },
   "file_extension": ".py",
   "mimetype": "text/x-python",
   "name": "python",
   "nbconvert_exporter": "python",
   "pygments_lexer": "ipython3",
   "version": "3.10.18"
  }
 },
 "nbformat": 4,
 "nbformat_minor": 5
}
